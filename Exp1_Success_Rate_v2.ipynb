{
  "cells": [
    {
      "cell_type": "markdown",
      "metadata": {
        "id": "view-in-github",
        "colab_type": "text"
      },
      "source": [
        "<a href=\"https://colab.research.google.com/github/jaberko/DPoS-NCGT/blob/main/Exp1_Success_Rate_v2.ipynb\" target=\"_parent\"><img src=\"https://colab.research.google.com/assets/colab-badge.svg\" alt=\"Open In Colab\"/></a>"
      ]
    },
    {
      "cell_type": "markdown",
      "metadata": {
        "id": "vwq_QPh_3EHG"
      },
      "source": [
        "# **Libraries Importation**"
      ]
    },
    {
      "cell_type": "code",
      "execution_count": 231,
      "metadata": {
        "id": "Kr21PQhE2J6k"
      },
      "outputs": [],
      "source": [
        "import json\n",
        "import numpy as np\n",
        "from tabulate import tabulate\n",
        "from sklearn.cluster import KMeans\n",
        "from sklearn.decomposition import TruncatedSVD\n",
        "import numpy as np"
      ]
    },
    {
      "cell_type": "markdown",
      "metadata": {
        "id": "eQSUejws3BO8"
      },
      "source": [
        "# **Loading Data**"
      ]
    },
    {
      "cell_type": "code",
      "execution_count": 232,
      "metadata": {
        "id": "qXZKptpn2bqC"
      },
      "outputs": [],
      "source": [
        "# Load device data from JSON file\n",
        "def load_devices(file_path):\n",
        "    with open(file_path, 'r') as f:\n",
        "        return json.load(f)"
      ]
    },
    {
      "cell_type": "code",
      "execution_count": 233,
      "metadata": {
        "id": "VZNHf14G2cuD"
      },
      "outputs": [],
      "source": [
        "# Extract conflict pairs for conflicts matrix calculation and devices clustering.\n",
        "def extract_conflicts_for_matrix(devices):\n",
        "    conflicts = []\n",
        "    for device in devices:\n",
        "        did = device['device_id']\n",
        "        for conflict in device.get('conflicts', []):\n",
        "            a1 = conflict.get('action1')\n",
        "            a2 = conflict.get('action2')\n",
        "            conflicts.append((did, a1, a2))\n",
        "    return conflicts"
      ]
    },
    {
      "cell_type": "code",
      "execution_count": 234,
      "metadata": {
        "id": "T1l07GapP1n5"
      },
      "outputs": [],
      "source": [
        "def extract_conflicts(devices):\n",
        "    \"\"\"\n",
        "    For NCGT conflict resolution: returns list of (action1, action2, weight)\n",
        "    \"\"\"\n",
        "    conflicts = set()\n",
        "    for device in devices:\n",
        "        for conflict in device.get('conflicts', []):\n",
        "            a1 = conflict.get('action1')\n",
        "            a2 = conflict.get('action2')\n",
        "            weight = conflict.get('weight', 1.0)\n",
        "            key = tuple(sorted([a1, a2])) + (weight,)\n",
        "            conflicts.add(key)\n",
        "    return list(conflicts)\n"
      ]
    },
    {
      "cell_type": "code",
      "execution_count": 235,
      "metadata": {
        "id": "UoRzuTa62l7g"
      },
      "outputs": [],
      "source": [
        "# Generate conflict matrix\n",
        "def generate_conflict_matrix(devices, conflicts):\n",
        "    device_ids = [device['device_id'] for device in devices]\n",
        "    n = len(device_ids)\n",
        "    matrix = np.zeros((n, n), dtype=int)\n",
        "    id_index = {did: idx for idx, did in enumerate(device_ids)}\n",
        "\n",
        "    for d1, a1, a2 in conflicts:\n",
        "        for d2 in device_ids:\n",
        "            if d1 != d2:\n",
        "                for device in devices:\n",
        "                    if device['device_id'] == d2:\n",
        "                        actions = [rule['Action'] for rule in device.get('ECARules', [])]\n",
        "                        if a2 in actions:\n",
        "                            i, j = id_index[d1], id_index[d2]\n",
        "                            matrix[i, j] = 1\n",
        "                            matrix[j, i] = 1\n",
        "    return device_ids, matrix\n",
        "# Display conflict matrix\n",
        "def display_matrix(device_ids, matrix):\n",
        "    print(\"\\nConflict Matrix:\")\n",
        "    headers = [\"Device\"] + device_ids\n",
        "    table = [[device_ids[i]] + list(row) for i, row in enumerate(matrix)]\n",
        "    print(tabulate(table, headers, tablefmt=\"grid\"))"
      ]
    },
    {
      "cell_type": "markdown",
      "metadata": {
        "id": "di5Pkb6h2vQc"
      },
      "source": [
        "# **KMeans Clustering**"
      ]
    },
    {
      "cell_type": "code",
      "execution_count": 236,
      "metadata": {
        "id": "7NNJYVkE2tgs"
      },
      "outputs": [],
      "source": [
        "def prepare_features(conflict_matrix, n_components=10):\n",
        "    \"\"\"\n",
        "    Optional: reduce dimensionality of binary conflict matrix rows\n",
        "    for better clustering with Euclidean-based KMeans.\n",
        "    \"\"\"\n",
        "    svd = TruncatedSVD(n_components=n_components, random_state=42)\n",
        "    reduced_features = svd.fit_transform(conflict_matrix)\n",
        "    return reduced_features\n",
        "\n",
        "def perform_kmeans_clustering(device_ids, conflict_matrix, n_clusters=4):\n",
        "    # Step 1: optionally reduce dimension\n",
        "    features = prepare_features(conflict_matrix, n_components=min(10, conflict_matrix.shape[1]))\n",
        "\n",
        "    # Step 2: run KMeans on features\n",
        "    kmeans = KMeans(n_clusters=n_clusters, random_state=42)\n",
        "    labels = kmeans.fit_predict(features)\n",
        "\n",
        "    clusters = {}\n",
        "    for idx, label in enumerate(labels):\n",
        "        clusters.setdefault(label, []).append(device_ids[idx])\n",
        "    return clusters\n",
        "\n",
        "def display_clusters(clusters):\n",
        "    print(\"\\nDevice Clusters based on Conflict Similarity:\")\n",
        "    for label, devices in clusters.items():\n",
        "        print(f\"Cluster {label}: {', '.join(devices)}\")"
      ]
    },
    {
      "cell_type": "markdown",
      "metadata": {
        "id": "_JuGE-8N31eq"
      },
      "source": [
        "# **Voting Power Calculation**\n",
        "\n"
      ]
    },
    {
      "cell_type": "code",
      "execution_count": 237,
      "metadata": {
        "id": "iT2Y-tGw3-lP"
      },
      "outputs": [],
      "source": [
        "# Step 6: Calculate voting power\n",
        "def calculate_voting_power(device):\n",
        "    alpha, beta, gamma = 0.4, 0.3, 0.3\n",
        "    stake = device['stake']\n",
        "    reliability = device['reliability']\n",
        "    priority = device['priority']\n",
        "    return round(alpha * stake + beta * reliability + gamma * priority, 3)\n",
        "\n",
        "# Step 7: Display voting power matrix\n",
        "def display_voting_power(devices):\n",
        "    table = [[device['device_id'], device['stake'], device['reliability'], device['priority'], calculate_voting_power(device)] for device in devices]\n",
        "    print(\"\\nVoting Power Matrix:\")\n",
        "    print(tabulate(table, headers=[\"Device\", \"Stake\", \"Reliability\", \"Priority\", \"Voting Power\"], tablefmt=\"grid\"))"
      ]
    },
    {
      "cell_type": "markdown",
      "metadata": {
        "id": "lVkeon4D4Nyx"
      },
      "source": [
        "# **DPoS Delegation**"
      ]
    },
    {
      "cell_type": "code",
      "execution_count": 238,
      "metadata": {
        "id": "XlygC0g99eOO"
      },
      "outputs": [],
      "source": [
        "# Step 8: Select delegate from each cluster\n",
        "def select_delegates(devices, clusters, print_result=True):\n",
        "    device_map = {d['device_id']: d for d in devices}\n",
        "    delegates = {}\n",
        "\n",
        "    for cluster_id, device_ids in clusters.items():\n",
        "        max_power = -1\n",
        "        delegate_id = None\n",
        "        for device_id in device_ids:\n",
        "            device = device_map[device_id]\n",
        "            vp = calculate_voting_power(device)\n",
        "            if vp > max_power:\n",
        "                max_power = vp\n",
        "                delegate_id = device_id\n",
        "        delegates[cluster_id] = delegate_id\n",
        "\n",
        "    print(\"\\nSelected Delegates:\")\n",
        "    for cid, did in delegates.items():\n",
        "        print(f\"Cluster {cid} → Delegate: {did}\")\n",
        "\n",
        "    return delegates  # ✅ Needed by conflict resolution\n"
      ]
    },
    {
      "cell_type": "markdown",
      "metadata": {
        "id": "u0tjePzd-Ee_"
      },
      "source": [
        "# **NCGT**"
      ]
    },
    {
      "cell_type": "code",
      "execution_count": 239,
      "metadata": {
        "id": "V9kEu13d-EBX"
      },
      "outputs": [],
      "source": [
        "# Compute Best Actions for Each Device in a Cluster\n",
        "def get_best_action_for_device(device):\n",
        "    prefs = device.get(\"user_preferences\", {})\n",
        "    if not prefs:\n",
        "        return None\n",
        "    return max(prefs.items(), key=lambda x: x[1])[0]  # action with highest preference"
      ]
    },
    {
      "cell_type": "code",
      "execution_count": 240,
      "metadata": {
        "id": "8TVWr8dk-hKQ"
      },
      "outputs": [],
      "source": [
        "# Build the Initial Strategy for All Clusters\n",
        "def initialize_strategy(clusters, devices):\n",
        "    device_map = {d[\"device_id\"]: d for d in devices}\n",
        "    strategy = {}\n",
        "\n",
        "    for cluster_devices in clusters.values():\n",
        "        for did in cluster_devices:\n",
        "            best_action = get_best_action_for_device(device_map[did])\n",
        "            if best_action:\n",
        "                strategy[did] = best_action\n",
        "\n",
        "    print(\"\\n[Init] Initial Strategy (Best-preference actions per device):\")\n",
        "    for did, action in strategy.items():\n",
        "        print(f\"  {did}: {action}\")\n",
        "    return strategy\n"
      ]
    },
    {
      "cell_type": "code",
      "execution_count": 241,
      "metadata": {
        "id": "Z2vIizEI-0_4"
      },
      "outputs": [],
      "source": [
        "def calculate_cluster_utility(cluster_device_ids, strategy, other_actions, conflict_list, devices, lambda_weight=0.5, debug=False, cluster_id=None):\n",
        "    device_map = {d[\"device_id\"]: d for d in devices}\n",
        "    utility = 0.0\n",
        "\n",
        "    for device_id in cluster_device_ids:\n",
        "        device = device_map[device_id]\n",
        "        action = strategy.get(device_id)\n",
        "        if not action:\n",
        "            continue\n",
        "\n",
        "        pref = device.get(\"user_preferences\", {}).get(action, 0)\n",
        "        penalty = 0\n",
        "\n",
        "        # Check all global conflicts (bidirectional logic)\n",
        "        for a1, a2, weight in conflict_list:\n",
        "            if (action in (a1, a2)) and ((a1 if a2 == action else a2) in other_actions):\n",
        "                penalty += weight\n",
        "\n",
        "        partial_utility = pref - lambda_weight * penalty\n",
        "        utility += partial_utility\n",
        "\n",
        "        if debug:\n",
        "            print(f\"[Utility] Device {device_id} → Action: {action}\")\n",
        "            print(f\"          Pref: {pref:.2f}, Penalty: {penalty:.2f}, Partial U: {partial_utility:.2f}\")\n",
        "\n",
        "    if debug:\n",
        "        if cluster_id is not None:\n",
        "            print(f\"[Utility] Total Utility for Cluster {cluster_id}: {round(utility, 3)}\\n\")\n",
        "        else:\n",
        "            print(f\"[Utility] Total Utility for Cluster: {round(utility, 3)}\\n\")\n",
        "\n",
        "    return utility\n"
      ]
    },
    {
      "cell_type": "code",
      "execution_count": 242,
      "metadata": {
        "id": "qjvDvW6puRAf"
      },
      "outputs": [],
      "source": [
        "from tabulate import tabulate\n",
        "\n",
        "def print_cluster_utility_table(iteration_num, clusters, strategy, devices, conflict_list, lambda_weight=0.5):\n",
        "    print(f\"\\n[NCGT] ▶ Iteration {iteration_num}\")\n",
        "\n",
        "    device_map = {d['device_id']: d for d in devices}\n",
        "    full_table = []\n",
        "\n",
        "    for cid, device_ids in clusters.items():\n",
        "        cluster_total = 0.0\n",
        "\n",
        "        for did in device_ids:\n",
        "            device = device_map[did]\n",
        "            action = strategy.get(did)\n",
        "            pref = device.get(\"user_preferences\", {}).get(action, 0)\n",
        "\n",
        "            # ✅ Compare against all other device actions, not just other clusters\n",
        "            other_actions = [\n",
        "                strategy[odid]\n",
        "                for odid in strategy if odid != did\n",
        "            ]\n",
        "\n",
        "            # Compute penalty from global conflict list\n",
        "            penalty = 0.0\n",
        "            for a1, a2, weight in conflict_list:\n",
        "                if (action in (a1, a2)) and ((a1 if a2 == action else a2) in other_actions):\n",
        "                    penalty += weight\n",
        "\n",
        "            partial_utility = pref - lambda_weight * penalty\n",
        "            cluster_total += partial_utility\n",
        "\n",
        "            full_table.append([\n",
        "                cid, did, action, f\"{pref:.2f}\", f\"{penalty:.2f}\", f\"{partial_utility:.2f}\"\n",
        "            ])\n",
        "\n",
        "        # Add row showing cluster utility\n",
        "        full_table.append([cid, \"Cluster Utility\", \"\", \"\", \"\", f\"{cluster_total:.3f}\"])\n",
        "\n",
        "    headers = [\"Cluster\", \"Device\", \"Action\", \"Pref\", \"Penalty\", \"Partial U\"]\n",
        "    print(tabulate(full_table, headers=headers, tablefmt=\"grid\"))\n"
      ]
    },
    {
      "cell_type": "code",
      "execution_count": 243,
      "metadata": {
        "id": "FnntTeSsa7iK"
      },
      "outputs": [],
      "source": [
        "def print_iteration_summary(iteration_num, logs):\n",
        "    if not logs:\n",
        "        return\n",
        "\n",
        "    print(f\"\\n[Summary] Cluster Updates in Iteration {iteration_num}\")\n",
        "\n",
        "    table = []\n",
        "    for log in logs:\n",
        "        cid = log['cluster_id']\n",
        "        before = log['before_utility']\n",
        "        after = log['after_utility']\n",
        "        for did, old_action, new_action in log['changes']:\n",
        "            table.append([cid, did, old_action, new_action, f\"{before:.3f} → {after:.3f}\"])\n",
        "\n",
        "    headers = [\"Cluster\", \"Device\", \"Old Action\", \"New Action\", \"Utility\"]\n",
        "    print(tabulate(table, headers=headers, tablefmt=\"grid\"))"
      ]
    },
    {
      "cell_type": "code",
      "execution_count": 244,
      "metadata": {
        "id": "6nGgLHZq-6mi"
      },
      "outputs": [],
      "source": [
        "# Resolve Conflicts via NCGT (Asynchronous Loop)\n",
        "from itertools import product\n",
        "\n",
        "def resolve_conflicts_with_ncgt(devices, clusters, delegates, conflict_list, lambda_weight=0.5):\n",
        "    device_map = {d[\"device_id\"]: d for d in devices}\n",
        "\n",
        "    # Step 1: Initialize best-preference action per device\n",
        "    strategy = {}\n",
        "    for device in devices:\n",
        "        prefs = device.get(\"user_preferences\", {})\n",
        "        if prefs:\n",
        "            best_action = max(prefs.items(), key=lambda x: x[1])[0]\n",
        "            strategy[device[\"device_id\"]] = best_action\n",
        "\n",
        "    changed = True\n",
        "    iteration = 0\n",
        "\n",
        "    while changed:\n",
        "        changed = False\n",
        "        iteration_log = []\n",
        "\n",
        "        # 🔹 Print per-device utility and cluster totals\n",
        "        print_cluster_utility_table(iteration + 1, clusters, strategy, devices, conflict_list, lambda_weight)\n",
        "\n",
        "        for cid, cluster_device_ids in clusters.items():\n",
        "            cluster_changes = []\n",
        "\n",
        "            # Current utility\n",
        "            initial_utility = calculate_cluster_utility(\n",
        "                cluster_device_ids, strategy,\n",
        "                [strategy[did] for ocid, dids in clusters.items() if ocid != cid for did in dids if did in strategy],\n",
        "                conflict_list, devices, lambda_weight, debug=False, cluster_id=cid\n",
        "            )\n",
        "\n",
        "            # Generate all possible combinations of this cluster's device actions\n",
        "            action_space = []\n",
        "            for did in cluster_device_ids:\n",
        "                dev = device_map[did]\n",
        "                actions = list(dev.get(\"user_preferences\", {}).keys())\n",
        "                action_space.append(actions)\n",
        "\n",
        "            best_strategy = {did: strategy[did] for did in cluster_device_ids}\n",
        "            best_utility = initial_utility\n",
        "\n",
        "            for combo in product(*action_space):\n",
        "                temp_strategy = strategy.copy()\n",
        "                for idx, did in enumerate(cluster_device_ids):\n",
        "                    temp_strategy[did] = combo[idx]\n",
        "\n",
        "                temp_utility = calculate_cluster_utility(\n",
        "                    cluster_device_ids, temp_strategy,\n",
        "                    [temp_strategy[did] for ocid, dids in clusters.items() if ocid != cid for did in dids if did in temp_strategy],\n",
        "                    conflict_list, devices, lambda_weight, debug=False, cluster_id=cid\n",
        "                )\n",
        "\n",
        "                if temp_utility > best_utility:\n",
        "                    cluster_changes = []\n",
        "                    for idx, did in enumerate(cluster_device_ids):\n",
        "                        old_action = strategy[did]\n",
        "                        new_action = combo[idx]\n",
        "                        if old_action != new_action:\n",
        "                            cluster_changes.append((did, old_action, new_action))\n",
        "                            strategy[did] = new_action\n",
        "                    best_utility = temp_utility\n",
        "                    changed = True\n",
        "\n",
        "                    if cluster_changes:\n",
        "                        iteration_log.append({\n",
        "                            \"cluster_id\": cid,\n",
        "                            \"before_utility\": round(initial_utility, 3),\n",
        "                            \"after_utility\": round(best_utility, 3),\n",
        "                            \"changes\": cluster_changes\n",
        "                        })\n",
        "\n",
        "        # 🔹 Print summary of action changes\n",
        "        print_iteration_summary(iteration + 1, iteration_log)\n",
        "        iteration += 1\n",
        "\n",
        "    return strategy, iteration\n"
      ]
    },
    {
      "cell_type": "markdown",
      "metadata": {
        "id": "whp3nPjrklhN"
      },
      "source": [
        "\n",
        "# **Experiments**"
      ]
    },
    {
      "cell_type": "markdown",
      "metadata": {
        "id": "T26pU8nL7kko"
      },
      "source": [
        "# **Success Rate**\n",
        "\n"
      ]
    },
    {
      "cell_type": "code",
      "execution_count": 245,
      "metadata": {
        "id": "8y0VSMq-kn2b"
      },
      "outputs": [],
      "source": [
        "def count_active_conflicts(strategy, conflict_list):\n",
        "    active_conflicts = 0\n",
        "    for a1, a2, _ in conflict_list:\n",
        "        selected_actions = set(strategy.values())\n",
        "        if a1 in selected_actions and a2 in selected_actions:\n",
        "            active_conflicts += 1\n",
        "    return active_conflicts\n"
      ]
    },
    {
      "cell_type": "code",
      "execution_count": 246,
      "metadata": {
        "id": "Maop8QtdkzTg"
      },
      "outputs": [],
      "source": [
        "def compute_success_rate(strategy, conflict_list):\n",
        "    total_conflicts = len(conflict_list)\n",
        "    unresolved = count_active_conflicts(strategy, conflict_list)\n",
        "    resolved = total_conflicts - unresolved\n",
        "    success_rate = resolved / total_conflicts if total_conflicts > 0 else 1.0\n",
        "    return {\n",
        "        \"total\": total_conflicts,\n",
        "        \"resolved\": resolved,\n",
        "        \"unresolved\": unresolved,\n",
        "        \"success_rate\": round(success_rate * 100, 2)\n",
        "    }"
      ]
    },
    {
      "cell_type": "code",
      "execution_count": 247,
      "metadata": {
        "id": "GhiWEKSNosRf"
      },
      "outputs": [],
      "source": [
        "def compute_total_utility(strategy, clusters, devices, conflict_list, lambda_weight=1.0):\n",
        "    total_utility = 0.0\n",
        "    for cid, device_ids in clusters.items():\n",
        "        other_actions = [strategy[did] for ocid, dids in clusters.items() if ocid != cid for did in dids]\n",
        "        utility = calculate_cluster_utility(\n",
        "            device_ids, strategy, other_actions, conflict_list, devices, lambda_weight\n",
        "        )\n",
        "        total_utility += utility\n",
        "    return round(total_utility, 3)\n"
      ]
    },
    {
      "cell_type": "code",
      "execution_count": 248,
      "metadata": {
        "id": "--Py6nvYk4Ra"
      },
      "outputs": [],
      "source": [
        "from re import S\n",
        "from tabulate import tabulate\n",
        "\n",
        "def compare_resolution_methods(devices, clusters, delegates, conflict_list, lambda_weight=1.0):\n",
        "    print(\"\\n▶ Running DPoS-NCGT...\")\n",
        "    strategy_dpos, iters_dpos = resolve_conflicts_with_ncgt(devices, clusters, delegates, conflict_list, lambda_weight)\n",
        "    metrics_dpos = compute_success_rate(strategy_dpos, conflict_list)\n",
        "    metrics_dpos[\"iterations\"] = iters_dpos\n",
        "\n",
        "\n",
        "    print(\"\\n▶ Running Plain NCGT (no clustering)...\")\n",
        "    # ✅ Each device is its own singleton cluster\n",
        "    singleton_clusters = {\n",
        "        idx: [device['device_id']] for idx, device in enumerate(devices)\n",
        "    }\n",
        "    dummy_delegates = {\n",
        "        idx: device['device_id'] for idx, device in enumerate(devices)\n",
        "    }\n",
        "\n",
        "    strategy_ncgt, iters_ncgt = resolve_conflicts_with_ncgt(devices, singleton_clusters, dummy_delegates, conflict_list, lambda_weight)\n",
        "    metrics_ncgt = compute_success_rate(strategy_ncgt, conflict_list)\n",
        "    metrics_ncgt[\"iterations\"] = iters_ncgt\n",
        "\n",
        "    # 📊 Print comparison table\n",
        "    print(\"\\n✅ Conflict Resolution Comparison (Success Rate):\")\n",
        "    print(tabulate([\n",
        "        [\"DPoS-NCGT\", metrics_dpos[\"total\"], metrics_dpos[\"resolved\"], metrics_dpos[\"unresolved\"], f\"{metrics_dpos['success_rate']}%\", metrics_dpos[\"iterations\"]],\n",
        "        [\"Plain NCGT\", metrics_ncgt[\"total\"], metrics_ncgt[\"resolved\"], metrics_ncgt[\"unresolved\"], f\"{metrics_ncgt['success_rate']}%\",  metrics_ncgt[\"iterations\"]]\n",
        "    ], headers=[\"Approach\", \"Total Conflicts\", \"Resolved\", \"Unresolved\", \"Success Rate\", \"Iterations\"], tablefmt=\"grid\"))\n",
        "\n",
        "    return {\n",
        "        \"DPoS-NCGT\": {\"strategy\": strategy_dpos, **metrics_dpos},\n",
        "        \"NCGT\": {\"strategy\": strategy_ncgt, **metrics_ncgt}\n",
        "    }\n"
      ]
    },
    {
      "cell_type": "markdown",
      "metadata": {
        "id": "B0qotezF7SUr"
      },
      "source": [
        "# **Visualization**"
      ]
    },
    {
      "cell_type": "code",
      "execution_count": 249,
      "metadata": {
        "id": "tdeobF_w7ZF5"
      },
      "outputs": [],
      "source": [
        "import json\n",
        "from tabulate import tabulate\n",
        "\n",
        "def compare_resolution_methods(devices, clusters, delegates, conflict_list, lambda_weight=1.0):\n",
        "    # DPoS-NCGT\n",
        "    strategy_dpos, iters_dpos = resolve_conflicts_with_ncgt(devices, clusters, delegates, conflict_list, lambda_weight)\n",
        "    metrics_dpos = compute_success_rate(strategy_dpos, conflict_list)\n",
        "    metrics_dpos[\"iterations\"] = iters_dpos\n",
        "\n",
        "    # Plain NCGT — one cluster per device\n",
        "    singleton_clusters = {i: [d[\"device_id\"]] for i, d in enumerate(devices)}\n",
        "    singleton_delegates = {i: d[\"device_id\"] for i, d in enumerate(devices)}\n",
        "    strategy_ncgt, iters_ncgt = resolve_conflicts_with_ncgt(devices, singleton_clusters, singleton_delegates, conflict_list, lambda_weight)\n",
        "    metrics_ncgt = compute_success_rate(strategy_ncgt, conflict_list)\n",
        "    metrics_ncgt[\"iterations\"] = iters_ncgt\n",
        "\n",
        "    metrics_dpos[\"utility\"] = compute_total_utility(strategy_dpos, clusters, devices, conflict_list, lambda_weight)\n",
        "    metrics_ncgt[\"utility\"] = compute_total_utility(strategy_ncgt, singleton_clusters, devices, conflict_list, lambda_weight)\n",
        "\n",
        "\n",
        "    return metrics_dpos, metrics_ncgt"
      ]
    },
    {
      "cell_type": "code",
      "execution_count": 250,
      "metadata": {
        "id": "_SMsBqj-uxSs"
      },
      "outputs": [],
      "source": [
        "def run_batch_experiment(DATASETS, k):\n",
        "    all_results = []\n",
        "\n",
        "    for file, label in DATASETS:\n",
        "        print(f\"\\n📂 Evaluating dataset: {label} ({file})\")\n",
        "\n",
        "        # Load devices\n",
        "        devices = load_devices(file)\n",
        "        conflict_list = extract_conflicts(devices)\n",
        "        conflict_matrix_input = extract_conflicts_for_matrix(devices)\n",
        "\n",
        "        # Clustering for DPoS\n",
        "        device_ids, matrix = generate_conflict_matrix(devices, conflict_matrix_input)\n",
        "        clusters = perform_kmeans_clustering(device_ids, matrix, n_clusters=k)\n",
        "        delegates = select_delegates(devices, clusters)\n",
        "\n",
        "        # Run comparison\n",
        "        metrics_dpos, metrics_ncgt = compare_resolution_methods(devices, clusters, delegates, conflict_list)\n",
        "\n",
        "        # Collect result row for both methods\n",
        "        all_results.append([\"DPoS-NCGT\", label, metrics_dpos[\"total\"], metrics_dpos[\"resolved\"],\n",
        "                    metrics_dpos[\"unresolved\"], f\"{metrics_dpos['success_rate']}%\", metrics_dpos[\"iterations\"], metrics_dpos[\"utility\"]])\n",
        "        all_results.append([\"Plain NCGT\", label, metrics_ncgt[\"total\"], metrics_ncgt[\"resolved\"],\n",
        "                    metrics_ncgt[\"unresolved\"], f\"{metrics_ncgt['success_rate']}%\", metrics_ncgt[\"iterations\"], metrics_ncgt[\"utility\"]])\n",
        "\n",
        "    # Print final comparison table\n",
        "    print(\"\\n📊 Batch Conflict Resolution Results:\\n\")\n",
        "    print(tabulate(\n",
        "        all_results,\n",
        "        headers=[\"Approach\", \"Dataset\", \"Total Conflicts\", \"Resolved\", \"Unresolved\", \"Success Rate\", \"Iterations\", \"Utility\"],\n",
        "        tablefmt=\"grid\"\n",
        "    ))\n",
        "\n",
        "    plot_all_summary_charts(all_results)\n"
      ]
    },
    {
      "cell_type": "code",
      "execution_count": 251,
      "metadata": {
        "id": "Dldn0kfyuf3P"
      },
      "outputs": [],
      "source": [
        "import matplotlib.pyplot as plt\n",
        "\n",
        "def plot_all_summary_charts(batch_results):\n",
        "    # Extract x-axis values and setup\n",
        "    datasets = sorted({r[1] for r in batch_results}, key=lambda x: int(x.strip('%')))\n",
        "    x = [int(d.strip('%')) for d in datasets]\n",
        "    x_pos = range(len(datasets))\n",
        "    methods = [\"DPoS-NCGT\", \"Plain NCGT\"]\n",
        "\n",
        "    # Containers\n",
        "    dpos_rates, plain_rates = [], []\n",
        "    dpos_iters, plain_iters = [], []\n",
        "    dpos_utils, plain_utils = [], []\n",
        "    resolved = {m: [] for m in methods}\n",
        "    unresolved = {m: [] for m in methods}\n",
        "\n",
        "    # Fill data\n",
        "    for d in datasets:\n",
        "        for row in batch_results:\n",
        "            if row[1] == d:\n",
        "                if row[0] == \"DPoS-NCGT\":\n",
        "                    dpos_rates.append(float(row[5].strip('%')))\n",
        "                    dpos_iters.append(row[6])\n",
        "                    dpos_utils.append(row[7])\n",
        "                    resolved[\"DPoS-NCGT\"].append(row[3])\n",
        "                    unresolved[\"DPoS-NCGT\"].append(row[4])\n",
        "                elif row[0] == \"Plain NCGT\":\n",
        "                    plain_rates.append(float(row[5].strip('%')))\n",
        "                    plain_iters.append(row[6])\n",
        "                    plain_utils.append(row[7])\n",
        "                    resolved[\"Plain NCGT\"].append(row[3])\n",
        "                    unresolved[\"Plain NCGT\"].append(row[4])\n",
        "\n",
        "    # Setup 2x2 subplot grid\n",
        "    fig, axes = plt.subplots(2, 2, figsize=(15, 10))\n",
        "    fig.suptitle(\"DPoS-NCGT vs Plain NCGT: Conflict Resolution Summary\", fontsize=16)\n",
        "\n",
        "    # ─── 1. Success Rate ──────────────────────\n",
        "    ax = axes[0][0]\n",
        "    ax.plot(x, dpos_rates, marker='o', label='DPoS-NCGT', linewidth=2)\n",
        "    ax.plot(x, plain_rates, marker='s', label='Plain NCGT', linewidth=2)\n",
        "    ax.set_title(\"Success Rate vs Conflict Density\")\n",
        "    ax.set_xlabel(\"Conflict Density (%)\")\n",
        "    ax.set_ylabel(\"Success Rate (%)\")\n",
        "    ax.set_xticks(x)\n",
        "    ax.set_yticks(range(0, 110, 10))\n",
        "    ax.grid(True)\n",
        "    ax.legend()\n",
        "\n",
        "    # ─── 2. Resolved vs Unresolved ────────────\n",
        "    ax = axes[0][1]\n",
        "    bar_width = 0.35\n",
        "    ax.bar(x_pos, resolved[\"DPoS-NCGT\"], width=bar_width, color='green', label='DPoS-NCGT Resolved')\n",
        "    ax.bar(x_pos, unresolved[\"DPoS-NCGT\"], width=bar_width, bottom=resolved[\"DPoS-NCGT\"], color='red', label='DPoS-NCGT Unresolved')\n",
        "\n",
        "    x2 = [i + bar_width for i in x_pos]\n",
        "    ax.bar(x2, resolved[\"Plain NCGT\"], width=bar_width, color='lightgreen', label='Plain NCGT Resolved')\n",
        "    ax.bar(x2, unresolved[\"Plain NCGT\"], width=bar_width, bottom=resolved[\"Plain NCGT\"], color='salmon', label='Plain NCGT Unresolved')\n",
        "    ax.set_title(\"Resolved vs Unresolved Conflicts\")\n",
        "    ax.set_xlabel(\"Conflict Density (%)\")\n",
        "    ax.set_ylabel(\"Number of Conflicts\")\n",
        "    ax.set_xticks([i + bar_width / 2 for i in x_pos])\n",
        "    ax.set_xticklabels(datasets)\n",
        "    ax.legend()\n",
        "\n",
        "    # ─── 3. Iterations ────────────────────────\n",
        "    ax = axes[1][0]\n",
        "    ax.plot(x, dpos_iters, marker='o', label='DPoS-NCGT', linewidth=2)\n",
        "    ax.plot(x, plain_iters, marker='s', label='Plain NCGT', linewidth=2)\n",
        "    ax.set_title(\"Iterations vs Conflict Density\")\n",
        "    ax.set_xlabel(\"Conflict Density (%)\")\n",
        "    ax.set_ylabel(\"Iterations\")\n",
        "    ax.set_xticks(x)\n",
        "    ax.grid(True)\n",
        "    ax.legend()\n",
        "\n",
        "    # ─── 4. Total Utility ─────────────────────\n",
        "    ax = axes[1][1]\n",
        "    ax.plot(x, dpos_utils, marker='o', label='DPoS-NCGT', linewidth=2)\n",
        "    ax.plot(x, plain_utils, marker='s', label='Plain NCGT', linewidth=2)\n",
        "    ax.set_title(\"Total Utility vs Conflict Density\")\n",
        "    ax.set_xlabel(\"Conflict Density (%)\")\n",
        "    ax.set_ylabel(\"Total Utility\")\n",
        "    ax.set_xticks(x)\n",
        "    ax.grid(True)\n",
        "    ax.legend()\n",
        "\n",
        "    plt.tight_layout(rect=[0, 0, 1, 0.96])  # Leave space for suptitle\n",
        "    plt.show()\n"
      ]
    },
    {
      "cell_type": "code",
      "execution_count": 252,
      "metadata": {
        "id": "q0MJWa0fTILB"
      },
      "outputs": [],
      "source": [
        "# Run it\n",
        "if __name__ == \"__main__\":\n",
        "\n",
        "    # Datasets to evaluate\n",
        "    DATASETS = [\n",
        "     #   (\"devices_30_CR_5.json\", \"5%\"),\n",
        "     #   (\"devices_30_CR_10.json\", \"10%\"),\n",
        "     #   (\"devices_30_CR_15.json\", \"15%\"),\n",
        "     #   (\"devices_30_CR_20.json\", \"20%\"),\n",
        "     #   (\"devices_30_CR_25.json\", \"25%\"),\n",
        "     #   (\"devices_30_CR_30.json\", \"30%\"),\n",
        "     #   (\"devices_30_CR_35.json\", \"35%\"),\n",
        "     #   (\"devices_30_CR_40.json\", \"40%\"),\n",
        "     #   (\"devices_30_CR_45.json\", \"45%\"),\n",
        "     #   (\"devices_30_CR_50.json\", \"50%\")\n",
        "    ]\n",
        "\n",
        "    n_clusters = 5\n",
        "   # run_batch_experiment(DATASETS, n_clusters)"
      ]
    }
  ],
  "metadata": {
    "colab": {
      "provenance": [],
      "include_colab_link": true
    },
    "kernelspec": {
      "display_name": "Python 3",
      "name": "python3"
    },
    "language_info": {
      "name": "python"
    }
  },
  "nbformat": 4,
  "nbformat_minor": 0
}